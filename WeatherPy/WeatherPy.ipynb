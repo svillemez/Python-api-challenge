{
 "cells": [
  {
   "cell_type": "code",
   "execution_count": 1,
   "metadata": {
    "scrolled": true
   },
   "outputs": [],
   "source": [
    "# Dependencies and Setup\n",
    "import matplotlib.pyplot as plt\n",
    "import pandas as pd\n",
    "import numpy as np\n",
    "import requests\n",
    "import json\n",
    "import time\n",
    "import csv\n",
    "from scipy.stats import linregress\n",
    "\n",
    "# Import API key\n",
    "from api_keys import weather_api_key\n",
    "\n",
    "# Incorporated citipy to determine city based on latitude and longitude\n",
    "from citipy import citipy\n",
    "\n",
    "# Output File (CSV)\n",
    "output_data_file = \"output_data/cities.csv\"\n",
    "\n",
    "# Range of latitudes and longitudes\n",
    "lat_range = (-90, 90)\n",
    "lng_range = (-180, 180)"
   ]
  },
  {
   "cell_type": "code",
   "execution_count": 2,
   "metadata": {},
   "outputs": [
    {
     "name": "stdout",
     "output_type": "stream",
     "text": [
      "84\n"
     ]
    }
   ],
   "source": [
    "# List for holding lat_lngs and cities\n",
    "\n",
    "lat_lngs = []\n",
    "cities = []\n",
    "\n",
    "# Create a set of random lat and lng combinations\n",
    "\n",
    "lats = np.random.uniform(lat_range[0], lat_range[1], size=100)\n",
    "lngs = np.random.uniform(lng_range[0], lng_range[1], size=100)\n",
    "lat_lngs = zip(lats, lngs)\n",
    "\n",
    "# Identify nearest city for each lat, lng combination\n",
    "\n",
    "for lat_lng in lat_lngs:\n",
    "    city = citipy.nearest_city(lat_lng[0], lat_lng[1]).city_name\n",
    "    \n",
    "# If the city is unique, then add it to our cities list\n",
    "    if city not in cities:\n",
    "        cities.append(city)\n",
    "\n",
    "# Print the city count to confirm sufficient count\n",
    "print(len(cities))"
   ]
  },
  {
   "cell_type": "code",
   "execution_count": 3,
   "metadata": {},
   "outputs": [
    {
     "name": "stdout",
     "output_type": "stream",
     "text": [
      "2110227 Butaritari\n",
      "4020109 Atuona\n",
      "103630 Najrān\n",
      "1529569 Changji\n",
      "4030556 Rikitea\n",
      "3874787 Punta Arenas\n",
      "1629380 Ruteng\n",
      "1106643 Quatre Cocos\n",
      "1282256 Hithadhoo\n",
      "1015776 Bredasdorp\n",
      "5122534 Jamestown\n",
      "3833367 Ushuaia\n",
      "3831208 Qaanaaq\n",
      "3652764 Puerto Ayora\n",
      "1626542 Sorong\n",
      "6431379 Saint-Alexandre\n",
      "1491977 Shumskiy\n",
      "2163355 Hobart\n",
      "2206939 Bluff\n",
      "934479 Grand Gaube\n",
      "1885823 Jiangyou\n",
      "2219235 Ubari\n",
      "2022572 Khatanga\n",
      "5855927 Hilo\n",
      "2017155 Saskylakh\n",
      "2162683 Innisfail\n",
      "1506268 Gornopravdinsk\n",
      "2019135 Nizhniy Kuranakh\n",
      "4671141 Aransas Pass\n",
      "2094144 Kerema\n",
      "964432 Port Alfred\n",
      "4032243 Vaini\n",
      "1691862 Rapu-Rapu\n",
      "1539210 Purpe\n",
      "2094342 Kavieng\n",
      "5848280 Kapaa\n",
      "5106841 Albany\n",
      "3424607 Tasiilaq\n",
      "364933 Umm Kaddadah\n",
      "107304 Buraidah\n",
      "3448903 São João da Barra\n",
      "1808744 Hede\n",
      "3932145 Pisco\n",
      "935215 Saint-Philippe\n",
      "4031574 Provideniya\n",
      "3354071 Oranjemund\n",
      "2159220 Mackay\n",
      "2630299 Hofn\n",
      "3418910 Upernavik\n",
      "2136825 Isangel\n",
      "1490256 Talnakh\n",
      "3139597 Sistranda\n",
      "756135 Warsaw\n",
      "2037375 Fujin\n",
      "1714733 Dingle\n",
      "3430443 Necochea\n",
      "1185239 Sarankhola\n",
      "3369157 Cape Town\n",
      "1006984 East London\n",
      "2527087 Tiznit Province\n",
      "2315026 Kasongo-Lunda\n",
      "2075265 Busselton\n",
      "3245419 Careva Ćuprija\n",
      "6165406 Thompson\n",
      "108410 Riyadh\n",
      "236950 Obo\n",
      "2121385 Severo-Kuril'sk\n",
      "1513491 Yangi Marg`ilon\n",
      "5917349 Carnduff\n",
      "316634 Dinar\n",
      "4575352 Columbia\n",
      "2876755 Löbau\n",
      "6201424 Mataura\n",
      "5282297 Bethel\n",
      "3582954 Texistepeque\n",
      "5563839 Fortuna\n",
      "1268814 Joshīmath\n",
      "1507390 Dikson\n"
     ]
    }
   ],
   "source": [
    "# Create data storage\n",
    "\n",
    "name = []\n",
    "cloudiness = []\n",
    "country = []\n",
    "date = []\n",
    "humid = []\n",
    "lat = []\n",
    "lng = []\n",
    "max_temp = []\n",
    "wind = []\n",
    "\n",
    "# Get requests from Open Weather API\n",
    "\n",
    "for city in cities:\n",
    "    units=\"imperial\"\n",
    "    url = \"http://api.openweathermap.org/data/2.5/weather?q=\" + city + \"&units=\" + units + \"&appid=\" + weather_api_key\n",
    "    response = requests.get(url).json()\n",
    "    \n",
    "# If the city is found, store the weather data\n",
    "\n",
    "    if response['cod'] == 200:\n",
    "        name.append(response[\"name\"])       \n",
    "        cloudiness.append(response['clouds']['all'])\n",
    "        country.append(response['sys']['country'])\n",
    "        date.append(response['dt'])  \n",
    "        humid.append(response['main']['humidity'])\n",
    "        lat.append(response['coord']['lat'])\n",
    "        lng.append(response['coord']['lon'])\n",
    "        max_temp.append(response['main']['temp_max'])\n",
    "        wind.append(response['wind']['speed'])\n",
    "        \n",
    "# Include a print log of each city as it's being processed (with the city number and city name)\n",
    "\n",
    "        print(response['id'],response['name'])"
   ]
  },
  {
   "cell_type": "code",
   "execution_count": 4,
   "metadata": {},
   "outputs": [],
   "source": [
    "# Create a data frame from the weather data\n",
    "\n",
    "weather_dict = {\n",
    "    \"City\": name,\n",
    "    \"Lat\": lat,\n",
    "    \"Lng\": lng,\n",
    "    \"Max Temp\": max_temp,\n",
    "    \"Humidity\": humid,\n",
    "    \"Cloudiness\": cloudiness,\n",
    "    \"Wind Speed\": wind,\n",
    "    \"Country\": country,\n",
    "    \"Date\": date\n",
    "}\n",
    "\n",
    "city_weather_df = pd.DataFrame(weather_dict)\n"
   ]
  },
  {
   "cell_type": "code",
   "execution_count": 5,
   "metadata": {},
   "outputs": [
    {
     "data": {
      "text/html": [
       "<div>\n",
       "<style scoped>\n",
       "    .dataframe tbody tr th:only-of-type {\n",
       "        vertical-align: middle;\n",
       "    }\n",
       "\n",
       "    .dataframe tbody tr th {\n",
       "        vertical-align: top;\n",
       "    }\n",
       "\n",
       "    .dataframe thead th {\n",
       "        text-align: right;\n",
       "    }\n",
       "</style>\n",
       "<table border=\"1\" class=\"dataframe\">\n",
       "  <thead>\n",
       "    <tr style=\"text-align: right;\">\n",
       "      <th></th>\n",
       "      <th>City</th>\n",
       "      <th>Lat</th>\n",
       "      <th>Lng</th>\n",
       "      <th>Max Temp</th>\n",
       "      <th>Humidity</th>\n",
       "      <th>Cloudiness</th>\n",
       "      <th>Wind Speed</th>\n",
       "      <th>Country</th>\n",
       "      <th>Date</th>\n",
       "    </tr>\n",
       "  </thead>\n",
       "  <tbody>\n",
       "    <tr>\n",
       "      <th>0</th>\n",
       "      <td>Butaritari</td>\n",
       "      <td>3.07</td>\n",
       "      <td>172.79</td>\n",
       "      <td>82.20</td>\n",
       "      <td>69</td>\n",
       "      <td>87</td>\n",
       "      <td>11.27</td>\n",
       "      <td>KI</td>\n",
       "      <td>1597558285</td>\n",
       "    </tr>\n",
       "    <tr>\n",
       "      <th>1</th>\n",
       "      <td>Atuona</td>\n",
       "      <td>-9.80</td>\n",
       "      <td>-139.03</td>\n",
       "      <td>78.15</td>\n",
       "      <td>76</td>\n",
       "      <td>44</td>\n",
       "      <td>15.08</td>\n",
       "      <td>PF</td>\n",
       "      <td>1597558127</td>\n",
       "    </tr>\n",
       "    <tr>\n",
       "      <th>2</th>\n",
       "      <td>Najrān</td>\n",
       "      <td>17.49</td>\n",
       "      <td>44.13</td>\n",
       "      <td>93.20</td>\n",
       "      <td>18</td>\n",
       "      <td>20</td>\n",
       "      <td>4.70</td>\n",
       "      <td>SA</td>\n",
       "      <td>1597558286</td>\n",
       "    </tr>\n",
       "    <tr>\n",
       "      <th>3</th>\n",
       "      <td>Changji</td>\n",
       "      <td>44.02</td>\n",
       "      <td>87.32</td>\n",
       "      <td>84.20</td>\n",
       "      <td>32</td>\n",
       "      <td>0</td>\n",
       "      <td>8.95</td>\n",
       "      <td>CN</td>\n",
       "      <td>1597558286</td>\n",
       "    </tr>\n",
       "    <tr>\n",
       "      <th>4</th>\n",
       "      <td>Rikitea</td>\n",
       "      <td>-23.12</td>\n",
       "      <td>-134.97</td>\n",
       "      <td>71.04</td>\n",
       "      <td>80</td>\n",
       "      <td>0</td>\n",
       "      <td>15.41</td>\n",
       "      <td>PF</td>\n",
       "      <td>1597558124</td>\n",
       "    </tr>\n",
       "    <tr>\n",
       "      <th>...</th>\n",
       "      <td>...</td>\n",
       "      <td>...</td>\n",
       "      <td>...</td>\n",
       "      <td>...</td>\n",
       "      <td>...</td>\n",
       "      <td>...</td>\n",
       "      <td>...</td>\n",
       "      <td>...</td>\n",
       "      <td>...</td>\n",
       "    </tr>\n",
       "    <tr>\n",
       "      <th>73</th>\n",
       "      <td>Bethel</td>\n",
       "      <td>41.37</td>\n",
       "      <td>-73.41</td>\n",
       "      <td>66.99</td>\n",
       "      <td>82</td>\n",
       "      <td>90</td>\n",
       "      <td>8.05</td>\n",
       "      <td>US</td>\n",
       "      <td>1597558297</td>\n",
       "    </tr>\n",
       "    <tr>\n",
       "      <th>74</th>\n",
       "      <td>Texistepeque</td>\n",
       "      <td>14.13</td>\n",
       "      <td>-89.50</td>\n",
       "      <td>72.00</td>\n",
       "      <td>100</td>\n",
       "      <td>80</td>\n",
       "      <td>2.42</td>\n",
       "      <td>SV</td>\n",
       "      <td>1597558297</td>\n",
       "    </tr>\n",
       "    <tr>\n",
       "      <th>75</th>\n",
       "      <td>Fortuna</td>\n",
       "      <td>40.60</td>\n",
       "      <td>-124.16</td>\n",
       "      <td>63.00</td>\n",
       "      <td>76</td>\n",
       "      <td>0</td>\n",
       "      <td>2.21</td>\n",
       "      <td>US</td>\n",
       "      <td>1597558131</td>\n",
       "    </tr>\n",
       "    <tr>\n",
       "      <th>76</th>\n",
       "      <td>Joshīmath</td>\n",
       "      <td>30.57</td>\n",
       "      <td>79.57</td>\n",
       "      <td>78.19</td>\n",
       "      <td>49</td>\n",
       "      <td>13</td>\n",
       "      <td>6.85</td>\n",
       "      <td>IN</td>\n",
       "      <td>1597558297</td>\n",
       "    </tr>\n",
       "    <tr>\n",
       "      <th>77</th>\n",
       "      <td>Dikson</td>\n",
       "      <td>73.51</td>\n",
       "      <td>80.55</td>\n",
       "      <td>44.49</td>\n",
       "      <td>83</td>\n",
       "      <td>21</td>\n",
       "      <td>5.23</td>\n",
       "      <td>RU</td>\n",
       "      <td>1597558297</td>\n",
       "    </tr>\n",
       "  </tbody>\n",
       "</table>\n",
       "<p>78 rows × 9 columns</p>\n",
       "</div>"
      ],
      "text/plain": [
       "            City    Lat     Lng  Max Temp  Humidity  Cloudiness  Wind Speed  \\\n",
       "0     Butaritari   3.07  172.79     82.20        69          87       11.27   \n",
       "1         Atuona  -9.80 -139.03     78.15        76          44       15.08   \n",
       "2         Najrān  17.49   44.13     93.20        18          20        4.70   \n",
       "3        Changji  44.02   87.32     84.20        32           0        8.95   \n",
       "4        Rikitea -23.12 -134.97     71.04        80           0       15.41   \n",
       "..           ...    ...     ...       ...       ...         ...         ...   \n",
       "73        Bethel  41.37  -73.41     66.99        82          90        8.05   \n",
       "74  Texistepeque  14.13  -89.50     72.00       100          80        2.42   \n",
       "75       Fortuna  40.60 -124.16     63.00        76           0        2.21   \n",
       "76     Joshīmath  30.57   79.57     78.19        49          13        6.85   \n",
       "77        Dikson  73.51   80.55     44.49        83          21        5.23   \n",
       "\n",
       "   Country        Date  \n",
       "0       KI  1597558285  \n",
       "1       PF  1597558127  \n",
       "2       SA  1597558286  \n",
       "3       CN  1597558286  \n",
       "4       PF  1597558124  \n",
       "..     ...         ...  \n",
       "73      US  1597558297  \n",
       "74      SV  1597558297  \n",
       "75      US  1597558131  \n",
       "76      IN  1597558297  \n",
       "77      RU  1597558297  \n",
       "\n",
       "[78 rows x 9 columns]"
      ]
     },
     "execution_count": 5,
     "metadata": {},
     "output_type": "execute_result"
    }
   ],
   "source": [
    "# View data frame\n",
    "city_weather_df"
   ]
  },
  {
   "cell_type": "code",
   "execution_count": 6,
   "metadata": {},
   "outputs": [
    {
     "name": "stdout",
     "output_type": "stream",
     "text": [
      "Int64Index([], dtype='int64')\n"
     ]
    }
   ],
   "source": [
    "#  Retrieve and view the indices of cities that have humidity over 100% (if any exist)\n",
    "\n",
    "Names = city_weather_df[city_weather_df['Humidity'] > 100 ].index\n",
    "\n",
    "print(Names)\n",
    "\n",
    "# Delete these rows (if any exist) and create a clean data frame\n",
    "\n",
    "clean_city_weather_df = city_weather_df.drop(Names,inplace=False)"
   ]
  },
  {
   "cell_type": "code",
   "execution_count": 7,
   "metadata": {},
   "outputs": [
    {
     "data": {
      "text/html": [
       "<div>\n",
       "<style scoped>\n",
       "    .dataframe tbody tr th:only-of-type {\n",
       "        vertical-align: middle;\n",
       "    }\n",
       "\n",
       "    .dataframe tbody tr th {\n",
       "        vertical-align: top;\n",
       "    }\n",
       "\n",
       "    .dataframe thead th {\n",
       "        text-align: right;\n",
       "    }\n",
       "</style>\n",
       "<table border=\"1\" class=\"dataframe\">\n",
       "  <thead>\n",
       "    <tr style=\"text-align: right;\">\n",
       "      <th></th>\n",
       "      <th>City</th>\n",
       "      <th>Lat</th>\n",
       "      <th>Lng</th>\n",
       "      <th>Max Temp</th>\n",
       "      <th>Humidity</th>\n",
       "      <th>Cloudiness</th>\n",
       "      <th>Wind Speed</th>\n",
       "      <th>Country</th>\n",
       "      <th>Date</th>\n",
       "    </tr>\n",
       "  </thead>\n",
       "  <tbody>\n",
       "    <tr>\n",
       "      <th>0</th>\n",
       "      <td>Butaritari</td>\n",
       "      <td>3.07</td>\n",
       "      <td>172.79</td>\n",
       "      <td>82.20</td>\n",
       "      <td>69</td>\n",
       "      <td>87</td>\n",
       "      <td>11.27</td>\n",
       "      <td>KI</td>\n",
       "      <td>1597558285</td>\n",
       "    </tr>\n",
       "    <tr>\n",
       "      <th>1</th>\n",
       "      <td>Atuona</td>\n",
       "      <td>-9.80</td>\n",
       "      <td>-139.03</td>\n",
       "      <td>78.15</td>\n",
       "      <td>76</td>\n",
       "      <td>44</td>\n",
       "      <td>15.08</td>\n",
       "      <td>PF</td>\n",
       "      <td>1597558127</td>\n",
       "    </tr>\n",
       "    <tr>\n",
       "      <th>2</th>\n",
       "      <td>Najrān</td>\n",
       "      <td>17.49</td>\n",
       "      <td>44.13</td>\n",
       "      <td>93.20</td>\n",
       "      <td>18</td>\n",
       "      <td>20</td>\n",
       "      <td>4.70</td>\n",
       "      <td>SA</td>\n",
       "      <td>1597558286</td>\n",
       "    </tr>\n",
       "    <tr>\n",
       "      <th>3</th>\n",
       "      <td>Changji</td>\n",
       "      <td>44.02</td>\n",
       "      <td>87.32</td>\n",
       "      <td>84.20</td>\n",
       "      <td>32</td>\n",
       "      <td>0</td>\n",
       "      <td>8.95</td>\n",
       "      <td>CN</td>\n",
       "      <td>1597558286</td>\n",
       "    </tr>\n",
       "    <tr>\n",
       "      <th>4</th>\n",
       "      <td>Rikitea</td>\n",
       "      <td>-23.12</td>\n",
       "      <td>-134.97</td>\n",
       "      <td>71.04</td>\n",
       "      <td>80</td>\n",
       "      <td>0</td>\n",
       "      <td>15.41</td>\n",
       "      <td>PF</td>\n",
       "      <td>1597558124</td>\n",
       "    </tr>\n",
       "    <tr>\n",
       "      <th>...</th>\n",
       "      <td>...</td>\n",
       "      <td>...</td>\n",
       "      <td>...</td>\n",
       "      <td>...</td>\n",
       "      <td>...</td>\n",
       "      <td>...</td>\n",
       "      <td>...</td>\n",
       "      <td>...</td>\n",
       "      <td>...</td>\n",
       "    </tr>\n",
       "    <tr>\n",
       "      <th>73</th>\n",
       "      <td>Bethel</td>\n",
       "      <td>41.37</td>\n",
       "      <td>-73.41</td>\n",
       "      <td>66.99</td>\n",
       "      <td>82</td>\n",
       "      <td>90</td>\n",
       "      <td>8.05</td>\n",
       "      <td>US</td>\n",
       "      <td>1597558297</td>\n",
       "    </tr>\n",
       "    <tr>\n",
       "      <th>74</th>\n",
       "      <td>Texistepeque</td>\n",
       "      <td>14.13</td>\n",
       "      <td>-89.50</td>\n",
       "      <td>72.00</td>\n",
       "      <td>100</td>\n",
       "      <td>80</td>\n",
       "      <td>2.42</td>\n",
       "      <td>SV</td>\n",
       "      <td>1597558297</td>\n",
       "    </tr>\n",
       "    <tr>\n",
       "      <th>75</th>\n",
       "      <td>Fortuna</td>\n",
       "      <td>40.60</td>\n",
       "      <td>-124.16</td>\n",
       "      <td>63.00</td>\n",
       "      <td>76</td>\n",
       "      <td>0</td>\n",
       "      <td>2.21</td>\n",
       "      <td>US</td>\n",
       "      <td>1597558131</td>\n",
       "    </tr>\n",
       "    <tr>\n",
       "      <th>76</th>\n",
       "      <td>Joshīmath</td>\n",
       "      <td>30.57</td>\n",
       "      <td>79.57</td>\n",
       "      <td>78.19</td>\n",
       "      <td>49</td>\n",
       "      <td>13</td>\n",
       "      <td>6.85</td>\n",
       "      <td>IN</td>\n",
       "      <td>1597558297</td>\n",
       "    </tr>\n",
       "    <tr>\n",
       "      <th>77</th>\n",
       "      <td>Dikson</td>\n",
       "      <td>73.51</td>\n",
       "      <td>80.55</td>\n",
       "      <td>44.49</td>\n",
       "      <td>83</td>\n",
       "      <td>21</td>\n",
       "      <td>5.23</td>\n",
       "      <td>RU</td>\n",
       "      <td>1597558297</td>\n",
       "    </tr>\n",
       "  </tbody>\n",
       "</table>\n",
       "<p>78 rows × 9 columns</p>\n",
       "</div>"
      ],
      "text/plain": [
       "            City    Lat     Lng  Max Temp  Humidity  Cloudiness  Wind Speed  \\\n",
       "0     Butaritari   3.07  172.79     82.20        69          87       11.27   \n",
       "1         Atuona  -9.80 -139.03     78.15        76          44       15.08   \n",
       "2         Najrān  17.49   44.13     93.20        18          20        4.70   \n",
       "3        Changji  44.02   87.32     84.20        32           0        8.95   \n",
       "4        Rikitea -23.12 -134.97     71.04        80           0       15.41   \n",
       "..           ...    ...     ...       ...       ...         ...         ...   \n",
       "73        Bethel  41.37  -73.41     66.99        82          90        8.05   \n",
       "74  Texistepeque  14.13  -89.50     72.00       100          80        2.42   \n",
       "75       Fortuna  40.60 -124.16     63.00        76           0        2.21   \n",
       "76     Joshīmath  30.57   79.57     78.19        49          13        6.85   \n",
       "77        Dikson  73.51   80.55     44.49        83          21        5.23   \n",
       "\n",
       "   Country        Date  \n",
       "0       KI  1597558285  \n",
       "1       PF  1597558127  \n",
       "2       SA  1597558286  \n",
       "3       CN  1597558286  \n",
       "4       PF  1597558124  \n",
       "..     ...         ...  \n",
       "73      US  1597558297  \n",
       "74      SV  1597558297  \n",
       "75      US  1597558131  \n",
       "76      IN  1597558297  \n",
       "77      RU  1597558297  \n",
       "\n",
       "[78 rows x 9 columns]"
      ]
     },
     "execution_count": 7,
     "metadata": {},
     "output_type": "execute_result"
    }
   ],
   "source": [
    "# View clean city weather data frame\n",
    "clean_city_weather_df"
   ]
  },
  {
   "cell_type": "code",
   "execution_count": 8,
   "metadata": {},
   "outputs": [],
   "source": [
    "# Export the clean data frame into a cities.csv\n",
    "\n",
    "clean_city_weather_df.to_csv(output_data_file,index=True)\n"
   ]
  },
  {
   "cell_type": "markdown",
   "metadata": {},
   "source": [
    "## Plotting the Data\n",
    "* Use proper labeling of the plots using plot titles (including date of analysis) and axes labels.\n",
    "* Save the plotted figures as .pngs."
   ]
  },
  {
   "cell_type": "code",
   "execution_count": 9,
   "metadata": {
    "scrolled": true
   },
   "outputs": [
    {
     "data": {
      "image/png": "[encoded data removed]",
      "text/plain": [
       "<Figure size 432x288 with 1 Axes>"
      ]
     },
     "metadata": {
      "needs_background": "light"
     },
     "output_type": "display_data"
    }
   ],
   "source": [
    "# Create a Scatter Plot for Latitude vs Temperature\n",
    "\n",
    "x_values = clean_city_weather_df['Lat']\n",
    "y_values = clean_city_weather_df['Max Temp']\n",
    "plt.scatter(x_values,y_values)\n",
    "plt.xlabel('Latitude')\n",
    "plt.ylabel('Max Temperature(F)')\n",
    "plt.title(\"City Latitude vs Max Temperature\")\n",
    "plt.scatter(x_values, y_values, marker=\"o\", facecolors=\"steelblue\", edgecolors=\"black\")\n",
    "\n",
    "# Save and show the Scatter Plot\n",
    "plt.tight_layout()\n",
    "plt.show()\n",
    "#plt.savefig(\"OutputData/Fig1.png\")"
   ]
  },
  {
   "cell_type": "markdown",
   "metadata": {},
   "source": [
    "## Latitude vs. Humidity Plot"
   ]
  },
  {
   "cell_type": "code",
   "execution_count": 10,
   "metadata": {},
   "outputs": [
    {
     "data": {
      "image/png": "[encoded data removed]",
      "text/plain": [
       "<Figure size 432x288 with 1 Axes>"
      ]
     },
     "metadata": {
      "needs_background": "light"
     },
     "output_type": "display_data"
    }
   ],
   "source": [
    "# Create a Scatter Plot for Latitude vs Humidity\n",
    "\n",
    "x_values = clean_city_weather_df['Lat']\n",
    "y_values = clean_city_weather_df['Humidity']\n",
    "plt.scatter(x_values,y_values)\n",
    "plt.xlabel('Latitude')\n",
    "plt.ylabel('Humidity(%)')\n",
    "plt.title(\"City Latitude vs Humidity\")\n",
    "plt.scatter(x_values, y_values, marker=\"o\", facecolors=\"steelblue\", edgecolors=\"black\")\n",
    "\n",
    "# Save and show the Scatter Plot\n",
    "plt.tight_layout()\n",
    "plt.show()\n",
    "#plt.savefig(\"OutputData/Fig2.png\")"
   ]
  },
  {
   "cell_type": "markdown",
   "metadata": {},
   "source": [
    "## Latitude vs. Cloudiness Plot"
   ]
  },
  {
   "cell_type": "code",
   "execution_count": 11,
   "metadata": {},
   "outputs": [
    {
     "data": {
      "image/png": "[encoded data removed]",
      "text/plain": [
       "<Figure size 432x288 with 1 Axes>"
      ]
     },
     "metadata": {
      "needs_background": "light"
     },
     "output_type": "display_data"
    }
   ],
   "source": [
    "# Create a Scatter Plot for Latitude vs Humidity\n",
    "\n",
    "x_values = clean_city_weather_df['Lat']\n",
    "y_values = clean_city_weather_df['Cloudiness']\n",
    "plt.scatter(x_values,y_values)\n",
    "plt.xlabel('Latitude')\n",
    "plt.ylabel('Cloudiness(%)')\n",
    "plt.title(\"City Latitude vs Cloudiness\")\n",
    "plt.scatter(x_values, y_values, marker=\"o\", facecolors=\"steelblue\", edgecolors=\"black\")\n",
    "\n",
    "# Save and show the Scatter Plot\n",
    "plt.tight_layout()\n",
    "plt.show()\n",
    "#plt.savefig(\"OutputData/Fig3.png\")"
   ]
  },
  {
   "cell_type": "markdown",
   "metadata": {},
   "source": [
    "## Latitude vs. Wind Speed Plot"
   ]
  },
  {
   "cell_type": "code",
   "execution_count": 12,
   "metadata": {},
   "outputs": [
    {
     "data": {
      "image/png": "[encoded data removed]",
      "text/plain": [
       "<Figure size 432x288 with 1 Axes>"
      ]
     },
     "metadata": {
      "needs_background": "light"
     },
     "output_type": "display_data"
    }
   ],
   "source": [
    "# Create a Scatter Plot for Latitude vs Wind Speed\n",
    "\n",
    "x_values = clean_city_weather_df['Lat']\n",
    "y_values = clean_city_weather_df['Wind Speed']\n",
    "plt.scatter(x_values,y_values)\n",
    "plt.xlabel('Latitude')\n",
    "plt.ylabel('Wind Speed(mph)')\n",
    "plt.title(\"City Latitude vs Wind Speed\")\n",
    "plt.scatter(x_values, y_values, marker=\"o\", facecolors=\"steelblue\", edgecolors=\"black\")\n",
    "\n",
    "# Save and show the Scatter Plot\n",
    "plt.tight_layout()\n",
    "plt.show()\n",
    "#plt.savefig(\"OutputData/Fig4.png\")"
   ]
  },
  {
   "cell_type": "markdown",
   "metadata": {},
   "source": [
    "## Linear Regression"
   ]
  },
  {
   "cell_type": "code",
   "execution_count": null,
   "metadata": {},
   "outputs": [],
   "source": [
    "# OPTIONAL: Create a function to create Linear Regression plots"
   ]
  },
  {
   "cell_type": "code",
   "execution_count": null,
   "metadata": {},
   "outputs": [],
   "source": [
    "# Create Northern and Southern Hemisphere DataFrames"
   ]
  },
  {
   "cell_type": "markdown",
   "metadata": {},
   "source": [
    "####  Northern Hemisphere - Max Temp vs. Latitude Linear Regression"
   ]
  },
  {
   "cell_type": "code",
   "execution_count": null,
   "metadata": {},
   "outputs": [],
   "source": []
  },
  {
   "cell_type": "markdown",
   "metadata": {},
   "source": [
    "####  Southern Hemisphere - Max Temp vs. Latitude Linear Regression"
   ]
  },
  {
   "cell_type": "code",
   "execution_count": null,
   "metadata": {},
   "outputs": [],
   "source": []
  },
  {
   "cell_type": "markdown",
   "metadata": {},
   "source": [
    "####  Northern Hemisphere - Humidity (%) vs. Latitude Linear Regression"
   ]
  },
  {
   "cell_type": "code",
   "execution_count": null,
   "metadata": {},
   "outputs": [],
   "source": []
  },
  {
   "cell_type": "markdown",
   "metadata": {},
   "source": [
    "####  Southern Hemisphere - Humidity (%) vs. Latitude Linear Regression"
   ]
  },
  {
   "cell_type": "code",
   "execution_count": null,
   "metadata": {},
   "outputs": [],
   "source": []
  },
  {
   "cell_type": "markdown",
   "metadata": {},
   "source": [
    "####  Northern Hemisphere - Cloudiness (%) vs. Latitude Linear Regression"
   ]
  },
  {
   "cell_type": "code",
   "execution_count": null,
   "metadata": {},
   "outputs": [],
   "source": []
  },
  {
   "cell_type": "markdown",
   "metadata": {},
   "source": [
    "####  Southern Hemisphere - Cloudiness (%) vs. Latitude Linear Regression"
   ]
  },
  {
   "cell_type": "code",
   "execution_count": null,
   "metadata": {},
   "outputs": [],
   "source": []
  },
  {
   "cell_type": "markdown",
   "metadata": {},
   "source": [
    "####  Northern Hemisphere - Wind Speed (mph) vs. Latitude Linear Regression"
   ]
  },
  {
   "cell_type": "code",
   "execution_count": null,
   "metadata": {},
   "outputs": [],
   "source": []
  },
  {
   "cell_type": "markdown",
   "metadata": {},
   "source": [
    "####  Southern Hemisphere - Wind Speed (mph) vs. Latitude Linear Regression"
   ]
  },
  {
   "cell_type": "code",
   "execution_count": null,
   "metadata": {},
   "outputs": [],
   "source": []
  },
  {
   "cell_type": "code",
   "execution_count": null,
   "metadata": {},
   "outputs": [],
   "source": []
  }
 ],
 "metadata": {
  "anaconda-cloud": {},
  "kernel_info": {
   "name": "python3"
  },
  "kernelspec": {
   "display_name": "Python 3",
   "language": "python",
   "name": "python3"
  },
  "language_info": {
   "codemirror_mode": {
    "name": "ipython",
    "version": 3
   },
   "file_extension": ".py",
   "mimetype": "text/x-python",
   "name": "python",
   "nbconvert_exporter": "python",
   "pygments_lexer": "ipython3",
   "version": "3.6.10"
  },
  "latex_envs": {
   "LaTeX_envs_menu_present": true,
   "autoclose": false,
   "autocomplete": true,
   "bibliofile": "biblio.bib",
   "cite_by": "apalike",
   "current_citInitial": 1,
   "eqLabelWithNumbers": true,
   "eqNumInitial": 1,
   "hotkeys": {
    "equation": "Ctrl-E",
    "itemize": "Ctrl-I"
   },
   "labels_anchors": false,
   "latex_user_defs": false,
   "report_style_numbering": false,
   "user_envs_cfg": false
  },
  "nteract": {
   "version": "0.12.3"
  }
 },
 "nbformat": 4,
 "nbformat_minor": 2
}
